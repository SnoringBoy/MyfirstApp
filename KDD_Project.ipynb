{
  "nbformat": 4,
  "nbformat_minor": 0,
  "metadata": {
    "colab": {
      "name": "KDD_Project.ipynb",
      "version": "0.3.2",
      "provenance": [],
      "collapsed_sections": [],
      "include_colab_link": true
    },
    "kernelspec": {
      "name": "python3",
      "display_name": "Python 3"
    }
  },
  "cells": [
    {
      "cell_type": "markdown",
      "metadata": {
        "id": "view-in-github",
        "colab_type": "text"
      },
      "source": [
        "<a href=\"https://colab.research.google.com/github/SnoringBoy/MyfirstApp/blob/master/KDD_Project.ipynb\" target=\"_parent\"><img src=\"https://colab.research.google.com/assets/colab-badge.svg\" alt=\"Open In Colab\"/></a>"
      ]
    },
    {
      "metadata": {
        "id": "Pp7A8wXmPJrJ",
        "colab_type": "text"
      },
      "cell_type": "markdown",
      "source": [
        "## KDD **Project: Context-Aware Multi-Modal Transportation Recommendation**\n",
        "[Project Link](https://dianshi.baidu.com/competition/29/rule)"
      ]
    },
    {
      "metadata": {
        "id": "cBQrGf_E1kdY",
        "colab_type": "text"
      },
      "cell_type": "markdown",
      "source": [
        "# New Section"
      ]
    },
    {
      "metadata": {
        "id": "Rfhb737aPbHp",
        "colab_type": "text"
      },
      "cell_type": "markdown",
      "source": [
        "## Download data , and Merge data"
      ]
    },
    {
      "metadata": {
        "id": "tQ37z576M9sf",
        "colab_type": "code",
        "colab": {}
      },
      "cell_type": "code",
      "source": [
        "# add libraries \n",
        "import csv\n",
        "import pandas as pd\n",
        "import os"
      ],
      "execution_count": 0,
      "outputs": []
    },
    {
      "metadata": {
        "id": "2QZu6avZcsn4",
        "colab_type": "code",
        "colab": {
          "base_uri": "https://localhost:8080/",
          "height": 134
        },
        "outputId": "2bea997a-79d1-4190-fd27-9e0c36b9d047"
      },
      "cell_type": "code",
      "source": [
        "print('memory that we can use')\n",
        "!cat /proc/meminfo | grep 'MemAvailable'\n",
        "print('if it had turbo boost it would''ve shown Min and Max MHz also but it is only showing current frequency this means it always operates at 2.3GHz')\n",
        "!lscpu | grep \"MHz\"\n",
        "print('hard disk that we can use')\n",
        "!df -h / | awk '{print  $4}'"
      ],
      "execution_count": 3,
      "outputs": [
        {
          "output_type": "stream",
          "text": [
            "memory that we can use\n",
            "MemAvailable:   12671212 kB\n",
            "if it had turbo boost it wouldve shown Min and Max MHz also but it is only showing current frequency this means it always operates at 2.3GHz\n",
            "CPU MHz:             2300.000\n",
            "hard disk that we can use\n",
            "Avail\n",
            "26G\n"
          ],
          "name": "stdout"
        }
      ]
    },
    {
      "metadata": {
        "id": "zBRGQXhBOqVV",
        "colab_type": "code",
        "outputId": "0993e5aa-e93f-44f2-c2e1-afd3cc725951",
        "colab": {
          "base_uri": "https://localhost:8080/",
          "height": 202
        }
      },
      "cell_type": "code",
      "source": [
        "#get data from dropbox\n",
        "!wget https://dl.dropboxusercontent.com/s/6hwa4gpqn5jcrev/data_set_phase1.zip"
      ],
      "execution_count": 4,
      "outputs": [
        {
          "output_type": "stream",
          "text": [
            "--2019-04-15 21:59:02--  https://dl.dropboxusercontent.com/s/6hwa4gpqn5jcrev/data_set_phase1.zip\n",
            "Resolving dl.dropboxusercontent.com (dl.dropboxusercontent.com)... 162.125.1.6, 2620:100:6016:6::a27d:106\n",
            "Connecting to dl.dropboxusercontent.com (dl.dropboxusercontent.com)|162.125.1.6|:443... connected.\n",
            "HTTP request sent, awaiting response... 200 OK\n",
            "Length: 49277572 (47M) [application/zip]\n",
            "Saving to: ‘data_set_phase1.zip’\n",
            "\n",
            "data_set_phase1.zip 100%[===================>]  46.99M  54.9MB/s    in 0.9s    \n",
            "\n",
            "2019-04-15 21:59:04 (54.9 MB/s) - ‘data_set_phase1.zip’ saved [49277572/49277572]\n",
            "\n"
          ],
          "name": "stdout"
        }
      ]
    },
    {
      "metadata": {
        "id": "xZBe1KGvQtE0",
        "colab_type": "code",
        "outputId": "39419491-0bd5-4d2a-d991-af1c49bb5154",
        "colab": {
          "base_uri": "https://localhost:8080/",
          "height": 151
        }
      },
      "cell_type": "code",
      "source": [
        "# unzip dataset zip file\n",
        "!unzip data_set_phase1.zip "
      ],
      "execution_count": 5,
      "outputs": [
        {
          "output_type": "stream",
          "text": [
            "Archive:  data_set_phase1.zip\n",
            "   creating: data_set_phase1/\n",
            "  inflating: data_set_phase1/train_queries.csv  \n",
            "  inflating: data_set_phase1/test_plans.csv  \n",
            "  inflating: data_set_phase1/test_queries.csv  \n",
            "  inflating: data_set_phase1/train_clicks.csv  \n",
            "  inflating: data_set_phase1/profiles.csv  \n",
            "  inflating: data_set_phase1/train_plans.csv  \n"
          ],
          "name": "stdout"
        }
      ]
    },
    {
      "metadata": {
        "id": "GmMlYmH9RiWW",
        "colab_type": "code",
        "outputId": "7106922f-3051-4ada-c23d-8d3a974d854b",
        "colab": {
          "base_uri": "https://localhost:8080/",
          "height": 34
        }
      },
      "cell_type": "code",
      "source": [
        "cd data_set_phase1/"
      ],
      "execution_count": 6,
      "outputs": [
        {
          "output_type": "stream",
          "text": [
            "/content/data_set_phase1\n"
          ],
          "name": "stdout"
        }
      ]
    },
    {
      "metadata": {
        "id": "Ax5B4SoIRj8N",
        "colab_type": "code",
        "outputId": "3abfde32-1e1a-481b-a533-5ba2e2f6941e",
        "colab": {
          "base_uri": "https://localhost:8080/",
          "height": 50
        }
      },
      "cell_type": "code",
      "source": [
        "ls"
      ],
      "execution_count": 7,
      "outputs": [
        {
          "output_type": "stream",
          "text": [
            "profiles.csv     \u001b[0m\u001b[01;32mtest_queries.csv\u001b[0m*  \u001b[01;32mtrain_plans.csv\u001b[0m*\n",
            "\u001b[01;32mtest_plans.csv\u001b[0m*  \u001b[01;32mtrain_clicks.csv\u001b[0m*  \u001b[01;32mtrain_queries.csv\u001b[0m*\n"
          ],
          "name": "stdout"
        }
      ]
    },
    {
      "metadata": {
        "id": "74osFRZIM8AA",
        "colab_type": "code",
        "outputId": "6a2527ba-1558-423b-dbeb-3dacc4773f16",
        "colab": {
          "base_uri": "https://localhost:8080/",
          "height": 1159
        }
      },
      "cell_type": "code",
      "source": [
        "# information of profiles.csv  # 1\n",
        "profiles = pd.read_csv('profiles.csv')\n",
        "List= list(profiles)\n",
        "print(profiles.shape)\n",
        "print(*List ,sep = \"\\n\")\n"
      ],
      "execution_count": 8,
      "outputs": [
        {
          "output_type": "stream",
          "text": [
            "(63090, 67)\n",
            "pid\n",
            "p0\n",
            "p1\n",
            "p2\n",
            "p3\n",
            "p4\n",
            "p5\n",
            "p6\n",
            "p7\n",
            "p8\n",
            "p9\n",
            "p10\n",
            "p11\n",
            "p12\n",
            "p13\n",
            "p14\n",
            "p15\n",
            "p16\n",
            "p17\n",
            "p18\n",
            "p19\n",
            "p20\n",
            "p21\n",
            "p22\n",
            "p23\n",
            "p24\n",
            "p25\n",
            "p26\n",
            "p27\n",
            "p28\n",
            "p29\n",
            "p30\n",
            "p31\n",
            "p32\n",
            "p33\n",
            "p34\n",
            "p35\n",
            "p36\n",
            "p37\n",
            "p38\n",
            "p39\n",
            "p40\n",
            "p41\n",
            "p42\n",
            "p43\n",
            "p44\n",
            "p45\n",
            "p46\n",
            "p47\n",
            "p48\n",
            "p49\n",
            "p50\n",
            "p51\n",
            "p52\n",
            "p53\n",
            "p54\n",
            "p55\n",
            "p56\n",
            "p57\n",
            "p58\n",
            "p59\n",
            "p60\n",
            "p61\n",
            "p62\n",
            "p63\n",
            "p64\n",
            "p65\n"
          ],
          "name": "stdout"
        }
      ]
    },
    {
      "metadata": {
        "id": "UdpAqrDsY6gw",
        "colab_type": "code",
        "outputId": "8a17d28b-6f2e-4d6b-b3fe-4b0da97d056c",
        "colab": {
          "base_uri": "https://localhost:8080/",
          "height": 224
        }
      },
      "cell_type": "code",
      "source": [
        "profiles.head()"
      ],
      "execution_count": 9,
      "outputs": [
        {
          "output_type": "execute_result",
          "data": {
            "text/html": [
              "<div>\n",
              "<style scoped>\n",
              "    .dataframe tbody tr th:only-of-type {\n",
              "        vertical-align: middle;\n",
              "    }\n",
              "\n",
              "    .dataframe tbody tr th {\n",
              "        vertical-align: top;\n",
              "    }\n",
              "\n",
              "    .dataframe thead th {\n",
              "        text-align: right;\n",
              "    }\n",
              "</style>\n",
              "<table border=\"1\" class=\"dataframe\">\n",
              "  <thead>\n",
              "    <tr style=\"text-align: right;\">\n",
              "      <th></th>\n",
              "      <th>pid</th>\n",
              "      <th>p0</th>\n",
              "      <th>p1</th>\n",
              "      <th>p2</th>\n",
              "      <th>p3</th>\n",
              "      <th>p4</th>\n",
              "      <th>p5</th>\n",
              "      <th>p6</th>\n",
              "      <th>p7</th>\n",
              "      <th>p8</th>\n",
              "      <th>...</th>\n",
              "      <th>p56</th>\n",
              "      <th>p57</th>\n",
              "      <th>p58</th>\n",
              "      <th>p59</th>\n",
              "      <th>p60</th>\n",
              "      <th>p61</th>\n",
              "      <th>p62</th>\n",
              "      <th>p63</th>\n",
              "      <th>p64</th>\n",
              "      <th>p65</th>\n",
              "    </tr>\n",
              "  </thead>\n",
              "  <tbody>\n",
              "    <tr>\n",
              "      <th>0</th>\n",
              "      <td>196356</td>\n",
              "      <td>1.0</td>\n",
              "      <td>0.0</td>\n",
              "      <td>0.0</td>\n",
              "      <td>0.0</td>\n",
              "      <td>0.0</td>\n",
              "      <td>0.0</td>\n",
              "      <td>0.0</td>\n",
              "      <td>0.0</td>\n",
              "      <td>1.0</td>\n",
              "      <td>...</td>\n",
              "      <td>0.0</td>\n",
              "      <td>0.0</td>\n",
              "      <td>0.0</td>\n",
              "      <td>0.0</td>\n",
              "      <td>0.0</td>\n",
              "      <td>0.0</td>\n",
              "      <td>0.0</td>\n",
              "      <td>0.0</td>\n",
              "      <td>0.0</td>\n",
              "      <td>0.0</td>\n",
              "    </tr>\n",
              "    <tr>\n",
              "      <th>1</th>\n",
              "      <td>204083</td>\n",
              "      <td>1.0</td>\n",
              "      <td>0.0</td>\n",
              "      <td>0.0</td>\n",
              "      <td>0.0</td>\n",
              "      <td>0.0</td>\n",
              "      <td>0.0</td>\n",
              "      <td>0.0</td>\n",
              "      <td>1.0</td>\n",
              "      <td>0.0</td>\n",
              "      <td>...</td>\n",
              "      <td>0.0</td>\n",
              "      <td>0.0</td>\n",
              "      <td>0.0</td>\n",
              "      <td>1.0</td>\n",
              "      <td>0.0</td>\n",
              "      <td>0.0</td>\n",
              "      <td>0.0</td>\n",
              "      <td>1.0</td>\n",
              "      <td>0.0</td>\n",
              "      <td>0.0</td>\n",
              "    </tr>\n",
              "    <tr>\n",
              "      <th>2</th>\n",
              "      <td>170667</td>\n",
              "      <td>0.0</td>\n",
              "      <td>0.0</td>\n",
              "      <td>1.0</td>\n",
              "      <td>0.0</td>\n",
              "      <td>0.0</td>\n",
              "      <td>0.0</td>\n",
              "      <td>0.0</td>\n",
              "      <td>1.0</td>\n",
              "      <td>0.0</td>\n",
              "      <td>...</td>\n",
              "      <td>0.0</td>\n",
              "      <td>0.0</td>\n",
              "      <td>0.0</td>\n",
              "      <td>0.0</td>\n",
              "      <td>0.0</td>\n",
              "      <td>0.0</td>\n",
              "      <td>1.0</td>\n",
              "      <td>0.0</td>\n",
              "      <td>0.0</td>\n",
              "      <td>0.0</td>\n",
              "    </tr>\n",
              "    <tr>\n",
              "      <th>3</th>\n",
              "      <td>115511</td>\n",
              "      <td>0.0</td>\n",
              "      <td>0.0</td>\n",
              "      <td>0.0</td>\n",
              "      <td>1.0</td>\n",
              "      <td>0.0</td>\n",
              "      <td>0.0</td>\n",
              "      <td>0.0</td>\n",
              "      <td>0.0</td>\n",
              "      <td>1.0</td>\n",
              "      <td>...</td>\n",
              "      <td>0.0</td>\n",
              "      <td>0.0</td>\n",
              "      <td>0.0</td>\n",
              "      <td>0.0</td>\n",
              "      <td>0.0</td>\n",
              "      <td>0.0</td>\n",
              "      <td>0.0</td>\n",
              "      <td>1.0</td>\n",
              "      <td>0.0</td>\n",
              "      <td>0.0</td>\n",
              "    </tr>\n",
              "    <tr>\n",
              "      <th>4</th>\n",
              "      <td>129719</td>\n",
              "      <td>0.0</td>\n",
              "      <td>0.0</td>\n",
              "      <td>1.0</td>\n",
              "      <td>0.0</td>\n",
              "      <td>0.0</td>\n",
              "      <td>0.0</td>\n",
              "      <td>0.0</td>\n",
              "      <td>0.0</td>\n",
              "      <td>1.0</td>\n",
              "      <td>...</td>\n",
              "      <td>0.0</td>\n",
              "      <td>0.0</td>\n",
              "      <td>0.0</td>\n",
              "      <td>0.0</td>\n",
              "      <td>1.0</td>\n",
              "      <td>0.0</td>\n",
              "      <td>0.0</td>\n",
              "      <td>0.0</td>\n",
              "      <td>0.0</td>\n",
              "      <td>0.0</td>\n",
              "    </tr>\n",
              "  </tbody>\n",
              "</table>\n",
              "<p>5 rows × 67 columns</p>\n",
              "</div>"
            ],
            "text/plain": [
              "      pid   p0   p1   p2   p3   p4   p5   p6   p7   p8 ...   p56  p57  p58  \\\n",
              "0  196356  1.0  0.0  0.0  0.0  0.0  0.0  0.0  0.0  1.0 ...   0.0  0.0  0.0   \n",
              "1  204083  1.0  0.0  0.0  0.0  0.0  0.0  0.0  1.0  0.0 ...   0.0  0.0  0.0   \n",
              "2  170667  0.0  0.0  1.0  0.0  0.0  0.0  0.0  1.0  0.0 ...   0.0  0.0  0.0   \n",
              "3  115511  0.0  0.0  0.0  1.0  0.0  0.0  0.0  0.0  1.0 ...   0.0  0.0  0.0   \n",
              "4  129719  0.0  0.0  1.0  0.0  0.0  0.0  0.0  0.0  1.0 ...   0.0  0.0  0.0   \n",
              "\n",
              "   p59  p60  p61  p62  p63  p64  p65  \n",
              "0  0.0  0.0  0.0  0.0  0.0  0.0  0.0  \n",
              "1  1.0  0.0  0.0  0.0  1.0  0.0  0.0  \n",
              "2  0.0  0.0  0.0  1.0  0.0  0.0  0.0  \n",
              "3  0.0  0.0  0.0  0.0  1.0  0.0  0.0  \n",
              "4  0.0  1.0  0.0  0.0  0.0  0.0  0.0  \n",
              "\n",
              "[5 rows x 67 columns]"
            ]
          },
          "metadata": {
            "tags": []
          },
          "execution_count": 9
        }
      ]
    },
    {
      "metadata": {
        "id": "briwjP1qY2lu",
        "colab_type": "code",
        "outputId": "dfb5c0ce-ba18-42cf-cbed-88a17c3e119a",
        "colab": {
          "base_uri": "https://localhost:8080/",
          "height": 1142
        }
      },
      "cell_type": "code",
      "source": [
        "for k, v in profiles.nunique().to_dict().items():\n",
        "    print('{}={}'.format(k,v))"
      ],
      "execution_count": 10,
      "outputs": [
        {
          "output_type": "stream",
          "text": [
            "pid=63090\n",
            "p0=2\n",
            "p1=2\n",
            "p2=2\n",
            "p3=2\n",
            "p4=2\n",
            "p5=2\n",
            "p6=2\n",
            "p7=2\n",
            "p8=2\n",
            "p9=2\n",
            "p10=2\n",
            "p11=2\n",
            "p12=2\n",
            "p13=2\n",
            "p14=2\n",
            "p15=2\n",
            "p16=2\n",
            "p17=2\n",
            "p18=2\n",
            "p19=2\n",
            "p20=2\n",
            "p21=2\n",
            "p22=2\n",
            "p23=2\n",
            "p24=2\n",
            "p25=2\n",
            "p26=2\n",
            "p27=2\n",
            "p28=2\n",
            "p29=2\n",
            "p30=2\n",
            "p31=2\n",
            "p32=2\n",
            "p33=2\n",
            "p34=2\n",
            "p35=2\n",
            "p36=2\n",
            "p37=2\n",
            "p38=2\n",
            "p39=2\n",
            "p40=2\n",
            "p41=2\n",
            "p42=2\n",
            "p43=2\n",
            "p44=2\n",
            "p45=2\n",
            "p46=2\n",
            "p47=2\n",
            "p48=2\n",
            "p49=2\n",
            "p50=2\n",
            "p51=2\n",
            "p52=2\n",
            "p53=2\n",
            "p54=2\n",
            "p55=2\n",
            "p56=2\n",
            "p57=2\n",
            "p58=2\n",
            "p59=2\n",
            "p60=2\n",
            "p61=2\n",
            "p62=2\n",
            "p63=2\n",
            "p64=2\n",
            "p65=2\n"
          ],
          "name": "stdout"
        }
      ]
    },
    {
      "metadata": {
        "id": "TTmr1owzMfrS",
        "colab_type": "code",
        "outputId": "02f0c729-7585-4fde-ea81-f7c21ea77caa",
        "colab": {
          "base_uri": "https://localhost:8080/",
          "height": 262
        }
      },
      "cell_type": "code",
      "source": [
        "# information of train_plans.csv #2\n",
        "train_plans = pd.read_csv('train_plans.csv')\n",
        "print(train_plans.shape , list(train_plans))\n",
        "for k, v in train_plans.nunique().to_dict().items():\n",
        "    print('{}={}'.format(k,v))\n",
        "train_plans.head() "
      ],
      "execution_count": 12,
      "outputs": [
        {
          "output_type": "stream",
          "text": [
            "(491054, 3) ['sid', 'plan_time', 'plans']\n",
            "sid=491054\n",
            "plan_time=455427\n",
            "plans=489563\n"
          ],
          "name": "stdout"
        },
        {
          "output_type": "execute_result",
          "data": {
            "text/html": [
              "<div>\n",
              "<style scoped>\n",
              "    .dataframe tbody tr th:only-of-type {\n",
              "        vertical-align: middle;\n",
              "    }\n",
              "\n",
              "    .dataframe tbody tr th {\n",
              "        vertical-align: top;\n",
              "    }\n",
              "\n",
              "    .dataframe thead th {\n",
              "        text-align: right;\n",
              "    }\n",
              "</style>\n",
              "<table border=\"1\" class=\"dataframe\">\n",
              "  <thead>\n",
              "    <tr style=\"text-align: right;\">\n",
              "      <th></th>\n",
              "      <th>sid</th>\n",
              "      <th>plan_time</th>\n",
              "      <th>plans</th>\n",
              "    </tr>\n",
              "  </thead>\n",
              "  <tbody>\n",
              "    <tr>\n",
              "      <th>0</th>\n",
              "      <td>1709112</td>\n",
              "      <td>2018-11-04 11:45:04</td>\n",
              "      <td>[{\"distance\": 32303, \"price\": 600, \"eta\": 5087...</td>\n",
              "    </tr>\n",
              "    <tr>\n",
              "      <th>1</th>\n",
              "      <td>3327773</td>\n",
              "      <td>2018-10-16 19:09:29</td>\n",
              "      <td>[{\"distance\": 3427, \"price\": 300, \"eta\": 627, ...</td>\n",
              "    </tr>\n",
              "    <tr>\n",
              "      <th>2</th>\n",
              "      <td>3285959</td>\n",
              "      <td>2018-11-25 15:05:22</td>\n",
              "      <td>[{\"distance\": 36234, \"price\": 1100, \"eta\": 931...</td>\n",
              "    </tr>\n",
              "    <tr>\n",
              "      <th>3</th>\n",
              "      <td>1616170</td>\n",
              "      <td>2018-10-03 14:42:40</td>\n",
              "      <td>[{\"distance\": 11450, \"price\": 400, \"eta\": 2801...</td>\n",
              "    </tr>\n",
              "    <tr>\n",
              "      <th>4</th>\n",
              "      <td>351369</td>\n",
              "      <td>2018-10-05 19:52:37</td>\n",
              "      <td>[{\"distance\": 18495, \"price\": 600, \"eta\": 4271...</td>\n",
              "    </tr>\n",
              "  </tbody>\n",
              "</table>\n",
              "</div>"
            ],
            "text/plain": [
              "       sid            plan_time  \\\n",
              "0  1709112  2018-11-04 11:45:04   \n",
              "1  3327773  2018-10-16 19:09:29   \n",
              "2  3285959  2018-11-25 15:05:22   \n",
              "3  1616170  2018-10-03 14:42:40   \n",
              "4   351369  2018-10-05 19:52:37   \n",
              "\n",
              "                                               plans  \n",
              "0  [{\"distance\": 32303, \"price\": 600, \"eta\": 5087...  \n",
              "1  [{\"distance\": 3427, \"price\": 300, \"eta\": 627, ...  \n",
              "2  [{\"distance\": 36234, \"price\": 1100, \"eta\": 931...  \n",
              "3  [{\"distance\": 11450, \"price\": 400, \"eta\": 2801...  \n",
              "4  [{\"distance\": 18495, \"price\": 600, \"eta\": 4271...  "
            ]
          },
          "metadata": {
            "tags": []
          },
          "execution_count": 12
        }
      ]
    },
    {
      "metadata": {
        "id": "_VDdIeqINfCO",
        "colab_type": "code",
        "outputId": "fef80620-161d-4d50-eafd-942cf38c4a5b",
        "colab": {
          "base_uri": "https://localhost:8080/",
          "height": 262
        }
      },
      "cell_type": "code",
      "source": [
        "# information of train_clicks.csv #3\n",
        "\n",
        "train_clicks = pd.read_csv('train_clicks.csv')\n",
        "print(train_clicks.shape , list(train_clicks))\n",
        "for k, v in train_clicks.nunique().to_dict().items():\n",
        "    print('{}={}'.format(k,v))\n",
        "train_clicks.head()"
      ],
      "execution_count": 13,
      "outputs": [
        {
          "output_type": "stream",
          "text": [
            "(453336, 3) ['sid', 'click_time', 'click_mode']\n",
            "sid=453336\n",
            "click_time=422100\n",
            "click_mode=11\n"
          ],
          "name": "stdout"
        },
        {
          "output_type": "execute_result",
          "data": {
            "text/html": [
              "<div>\n",
              "<style scoped>\n",
              "    .dataframe tbody tr th:only-of-type {\n",
              "        vertical-align: middle;\n",
              "    }\n",
              "\n",
              "    .dataframe tbody tr th {\n",
              "        vertical-align: top;\n",
              "    }\n",
              "\n",
              "    .dataframe thead th {\n",
              "        text-align: right;\n",
              "    }\n",
              "</style>\n",
              "<table border=\"1\" class=\"dataframe\">\n",
              "  <thead>\n",
              "    <tr style=\"text-align: right;\">\n",
              "      <th></th>\n",
              "      <th>sid</th>\n",
              "      <th>click_time</th>\n",
              "      <th>click_mode</th>\n",
              "    </tr>\n",
              "  </thead>\n",
              "  <tbody>\n",
              "    <tr>\n",
              "      <th>0</th>\n",
              "      <td>2848914</td>\n",
              "      <td>2018-11-17 18:42:17</td>\n",
              "      <td>1</td>\n",
              "    </tr>\n",
              "    <tr>\n",
              "      <th>1</th>\n",
              "      <td>2629085</td>\n",
              "      <td>2018-10-12 16:28:13</td>\n",
              "      <td>3</td>\n",
              "    </tr>\n",
              "    <tr>\n",
              "      <th>2</th>\n",
              "      <td>602598</td>\n",
              "      <td>2018-11-11 16:38:42</td>\n",
              "      <td>2</td>\n",
              "    </tr>\n",
              "    <tr>\n",
              "      <th>3</th>\n",
              "      <td>2022975</td>\n",
              "      <td>2018-10-14 12:28:11</td>\n",
              "      <td>9</td>\n",
              "    </tr>\n",
              "    <tr>\n",
              "      <th>4</th>\n",
              "      <td>988425</td>\n",
              "      <td>2018-11-12 16:47:30</td>\n",
              "      <td>7</td>\n",
              "    </tr>\n",
              "  </tbody>\n",
              "</table>\n",
              "</div>"
            ],
            "text/plain": [
              "       sid           click_time  click_mode\n",
              "0  2848914  2018-11-17 18:42:17           1\n",
              "1  2629085  2018-10-12 16:28:13           3\n",
              "2   602598  2018-11-11 16:38:42           2\n",
              "3  2022975  2018-10-14 12:28:11           9\n",
              "4   988425  2018-11-12 16:47:30           7"
            ]
          },
          "metadata": {
            "tags": []
          },
          "execution_count": 13
        }
      ]
    },
    {
      "metadata": {
        "id": "vE6YTFz4NqZ1",
        "colab_type": "code",
        "outputId": "990c1fa6-acd6-4103-a64a-2b630865ee2d",
        "colab": {
          "base_uri": "https://localhost:8080/",
          "height": 296
        }
      },
      "cell_type": "code",
      "source": [
        "# information of train_queries.csv #4\n",
        "\n",
        "train_queries = pd.read_csv('train_queries.csv')\n",
        "print(train_queries.shape, list(train_queries))\n",
        "for k, v in train_queries.nunique().to_dict().items():\n",
        "    print('{}={}'.format(k,v))\n",
        "\n",
        "train_queries.head()"
      ],
      "execution_count": 15,
      "outputs": [
        {
          "output_type": "stream",
          "text": [
            "(500000, 5) ['sid', 'pid', 'req_time', 'o', 'd']\n",
            "sid=500000\n",
            "pid=46191\n",
            "req_time=464211\n",
            "o=5460\n",
            "d=4923\n"
          ],
          "name": "stdout"
        },
        {
          "output_type": "execute_result",
          "data": {
            "text/html": [
              "<div>\n",
              "<style scoped>\n",
              "    .dataframe tbody tr th:only-of-type {\n",
              "        vertical-align: middle;\n",
              "    }\n",
              "\n",
              "    .dataframe tbody tr th {\n",
              "        vertical-align: top;\n",
              "    }\n",
              "\n",
              "    .dataframe thead th {\n",
              "        text-align: right;\n",
              "    }\n",
              "</style>\n",
              "<table border=\"1\" class=\"dataframe\">\n",
              "  <thead>\n",
              "    <tr style=\"text-align: right;\">\n",
              "      <th></th>\n",
              "      <th>sid</th>\n",
              "      <th>pid</th>\n",
              "      <th>req_time</th>\n",
              "      <th>o</th>\n",
              "      <th>d</th>\n",
              "    </tr>\n",
              "  </thead>\n",
              "  <tbody>\n",
              "    <tr>\n",
              "      <th>0</th>\n",
              "      <td>3000821</td>\n",
              "      <td>NaN</td>\n",
              "      <td>2018-11-02 17:54:30</td>\n",
              "      <td>116.29,39.97</td>\n",
              "      <td>116.32,39.96</td>\n",
              "    </tr>\n",
              "    <tr>\n",
              "      <th>1</th>\n",
              "      <td>3085857</td>\n",
              "      <td>210736.0</td>\n",
              "      <td>2018-11-16 10:53:10</td>\n",
              "      <td>116.39,39.84</td>\n",
              "      <td>116.33,39.79</td>\n",
              "    </tr>\n",
              "    <tr>\n",
              "      <th>2</th>\n",
              "      <td>2944522</td>\n",
              "      <td>NaN</td>\n",
              "      <td>2018-10-06 10:33:58</td>\n",
              "      <td>116.31,39.93</td>\n",
              "      <td>116.27,40.00</td>\n",
              "    </tr>\n",
              "    <tr>\n",
              "      <th>3</th>\n",
              "      <td>559931</td>\n",
              "      <td>202427.0</td>\n",
              "      <td>2018-11-23 14:54:11</td>\n",
              "      <td>116.27,39.88</td>\n",
              "      <td>116.39,39.90</td>\n",
              "    </tr>\n",
              "    <tr>\n",
              "      <th>4</th>\n",
              "      <td>2819352</td>\n",
              "      <td>172251.0</td>\n",
              "      <td>2018-10-30 11:48:41</td>\n",
              "      <td>116.34,39.96</td>\n",
              "      <td>116.37,39.86</td>\n",
              "    </tr>\n",
              "  </tbody>\n",
              "</table>\n",
              "</div>"
            ],
            "text/plain": [
              "       sid       pid             req_time             o             d\n",
              "0  3000821       NaN  2018-11-02 17:54:30  116.29,39.97  116.32,39.96\n",
              "1  3085857  210736.0  2018-11-16 10:53:10  116.39,39.84  116.33,39.79\n",
              "2  2944522       NaN  2018-10-06 10:33:58  116.31,39.93  116.27,40.00\n",
              "3   559931  202427.0  2018-11-23 14:54:11  116.27,39.88  116.39,39.90\n",
              "4  2819352  172251.0  2018-10-30 11:48:41  116.34,39.96  116.37,39.86"
            ]
          },
          "metadata": {
            "tags": []
          },
          "execution_count": 15
        }
      ]
    },
    {
      "metadata": {
        "id": "0Ld0PifQMFTK",
        "colab_type": "code",
        "outputId": "e33e76fb-0388-40d0-a4d9-f2cee78407b6",
        "colab": {
          "base_uri": "https://localhost:8080/",
          "height": 262
        }
      },
      "cell_type": "code",
      "source": [
        "# information of test_plans.csv #5\n",
        "\n",
        "test_plans = pd.read_csv('test_plans.csv')\n",
        "print(test_plans.shape , list(test_plans))\n",
        "for k, v in test_plans.nunique().to_dict().items():\n",
        "    print('{}={}'.format(k,v))\n",
        "test_plans.head()"
      ],
      "execution_count": 16,
      "outputs": [
        {
          "output_type": "stream",
          "text": [
            "(92571, 3) ['sid', 'plan_time', 'plans']\n",
            "sid=92571\n",
            "plan_time=82432\n",
            "plans=92163\n"
          ],
          "name": "stdout"
        },
        {
          "output_type": "execute_result",
          "data": {
            "text/html": [
              "<div>\n",
              "<style scoped>\n",
              "    .dataframe tbody tr th:only-of-type {\n",
              "        vertical-align: middle;\n",
              "    }\n",
              "\n",
              "    .dataframe tbody tr th {\n",
              "        vertical-align: top;\n",
              "    }\n",
              "\n",
              "    .dataframe thead th {\n",
              "        text-align: right;\n",
              "    }\n",
              "</style>\n",
              "<table border=\"1\" class=\"dataframe\">\n",
              "  <thead>\n",
              "    <tr style=\"text-align: right;\">\n",
              "      <th></th>\n",
              "      <th>sid</th>\n",
              "      <th>plan_time</th>\n",
              "      <th>plans</th>\n",
              "    </tr>\n",
              "  </thead>\n",
              "  <tbody>\n",
              "    <tr>\n",
              "      <th>0</th>\n",
              "      <td>1112456</td>\n",
              "      <td>2018-12-05 17:39:47</td>\n",
              "      <td>[{\"distance\": 465, \"price\": \"\", \"eta\": 418, \"t...</td>\n",
              "    </tr>\n",
              "    <tr>\n",
              "      <th>1</th>\n",
              "      <td>1413458</td>\n",
              "      <td>2018-12-06 17:49:17</td>\n",
              "      <td>[{\"distance\": 28846, \"price\": 600, \"eta\": 4779...</td>\n",
              "    </tr>\n",
              "    <tr>\n",
              "      <th>2</th>\n",
              "      <td>1243160</td>\n",
              "      <td>2018-12-02 14:50:25</td>\n",
              "      <td>[{\"distance\": 24646, \"price\": 600, \"eta\": 3513...</td>\n",
              "    </tr>\n",
              "    <tr>\n",
              "      <th>3</th>\n",
              "      <td>2040494</td>\n",
              "      <td>2018-12-07 09:23:45</td>\n",
              "      <td>[{\"distance\": 32235, \"price\": 600, \"eta\": 4072...</td>\n",
              "    </tr>\n",
              "    <tr>\n",
              "      <th>4</th>\n",
              "      <td>1448779</td>\n",
              "      <td>2018-12-06 18:24:46</td>\n",
              "      <td>[{\"distance\": 13502, \"price\": 400, \"eta\": 3195...</td>\n",
              "    </tr>\n",
              "  </tbody>\n",
              "</table>\n",
              "</div>"
            ],
            "text/plain": [
              "       sid            plan_time  \\\n",
              "0  1112456  2018-12-05 17:39:47   \n",
              "1  1413458  2018-12-06 17:49:17   \n",
              "2  1243160  2018-12-02 14:50:25   \n",
              "3  2040494  2018-12-07 09:23:45   \n",
              "4  1448779  2018-12-06 18:24:46   \n",
              "\n",
              "                                               plans  \n",
              "0  [{\"distance\": 465, \"price\": \"\", \"eta\": 418, \"t...  \n",
              "1  [{\"distance\": 28846, \"price\": 600, \"eta\": 4779...  \n",
              "2  [{\"distance\": 24646, \"price\": 600, \"eta\": 3513...  \n",
              "3  [{\"distance\": 32235, \"price\": 600, \"eta\": 4072...  \n",
              "4  [{\"distance\": 13502, \"price\": 400, \"eta\": 3195...  "
            ]
          },
          "metadata": {
            "tags": []
          },
          "execution_count": 16
        }
      ]
    },
    {
      "metadata": {
        "id": "VWWe8hk0L1tL",
        "colab_type": "code",
        "outputId": "3b3f16c3-a223-4d4b-cb06-7a433be0ace2",
        "colab": {
          "base_uri": "https://localhost:8080/",
          "height": 296
        }
      },
      "cell_type": "code",
      "source": [
        "# information of test_queries.csv #6\n",
        "test_queries = pd.read_csv('test_queries.csv')\n",
        "print(test_queries.shape , list(test_queries))\n",
        "for k, v in test_queries.nunique().to_dict().items():\n",
        "    print('{}={}'.format(k,v))\n",
        "test_queries.head()"
      ],
      "execution_count": 17,
      "outputs": [
        {
          "output_type": "stream",
          "text": [
            "(94358, 5) ['sid', 'pid', 'req_time', 'o', 'd']\n",
            "sid=94358\n",
            "pid=13299\n",
            "req_time=84156\n",
            "o=3257\n",
            "d=2884\n"
          ],
          "name": "stdout"
        },
        {
          "output_type": "execute_result",
          "data": {
            "text/html": [
              "<div>\n",
              "<style scoped>\n",
              "    .dataframe tbody tr th:only-of-type {\n",
              "        vertical-align: middle;\n",
              "    }\n",
              "\n",
              "    .dataframe tbody tr th {\n",
              "        vertical-align: top;\n",
              "    }\n",
              "\n",
              "    .dataframe thead th {\n",
              "        text-align: right;\n",
              "    }\n",
              "</style>\n",
              "<table border=\"1\" class=\"dataframe\">\n",
              "  <thead>\n",
              "    <tr style=\"text-align: right;\">\n",
              "      <th></th>\n",
              "      <th>sid</th>\n",
              "      <th>pid</th>\n",
              "      <th>req_time</th>\n",
              "      <th>o</th>\n",
              "      <th>d</th>\n",
              "    </tr>\n",
              "  </thead>\n",
              "  <tbody>\n",
              "    <tr>\n",
              "      <th>0</th>\n",
              "      <td>1126541</td>\n",
              "      <td>178395.0</td>\n",
              "      <td>2018-12-05 14:51:43</td>\n",
              "      <td>116.41,39.92</td>\n",
              "      <td>116.46,39.95</td>\n",
              "    </tr>\n",
              "    <tr>\n",
              "      <th>1</th>\n",
              "      <td>453685</td>\n",
              "      <td>179178.0</td>\n",
              "      <td>2018-12-01 12:50:33</td>\n",
              "      <td>116.39,39.90</td>\n",
              "      <td>116.41,39.91</td>\n",
              "    </tr>\n",
              "    <tr>\n",
              "      <th>2</th>\n",
              "      <td>2066073</td>\n",
              "      <td>184748.0</td>\n",
              "      <td>2018-12-07 10:17:35</td>\n",
              "      <td>116.37,39.71</td>\n",
              "      <td>116.31,39.89</td>\n",
              "    </tr>\n",
              "    <tr>\n",
              "      <th>3</th>\n",
              "      <td>452746</td>\n",
              "      <td>162795.0</td>\n",
              "      <td>2018-12-01 07:52:44</td>\n",
              "      <td>116.33,39.97</td>\n",
              "      <td>116.31,39.98</td>\n",
              "    </tr>\n",
              "    <tr>\n",
              "      <th>4</th>\n",
              "      <td>1431672</td>\n",
              "      <td>116384.0</td>\n",
              "      <td>2018-12-06 10:36:30</td>\n",
              "      <td>116.51,39.68</td>\n",
              "      <td>116.51,39.68</td>\n",
              "    </tr>\n",
              "  </tbody>\n",
              "</table>\n",
              "</div>"
            ],
            "text/plain": [
              "       sid       pid             req_time             o             d\n",
              "0  1126541  178395.0  2018-12-05 14:51:43  116.41,39.92  116.46,39.95\n",
              "1   453685  179178.0  2018-12-01 12:50:33  116.39,39.90  116.41,39.91\n",
              "2  2066073  184748.0  2018-12-07 10:17:35  116.37,39.71  116.31,39.89\n",
              "3   452746  162795.0  2018-12-01 07:52:44  116.33,39.97  116.31,39.98\n",
              "4  1431672  116384.0  2018-12-06 10:36:30  116.51,39.68  116.51,39.68"
            ]
          },
          "metadata": {
            "tags": []
          },
          "execution_count": 17
        }
      ]
    },
    {
      "metadata": {
        "id": "nMd7DYUOOgGy",
        "colab_type": "text"
      },
      "cell_type": "markdown",
      "source": [
        "Below are some important information related to dataset\n",
        "\n",
        "**profiles.csv # 1 \t--> 63090, 67**\n",
        "\n",
        "**train_plans.csv #2 \t--> 491054, 3**\n",
        "\n",
        "**train_clicks.csv #3 -->453336, 3**\n",
        "\n",
        "**train_queries.csv #4-->500000, 5**\n",
        "\n",
        "**test_plans.csv #5  \t-->92571, 3**\n",
        "\n",
        "**test_queries.csv #6 -->94358, 5**"
      ]
    },
    {
      "metadata": {
        "id": "axkTwnAga_z2",
        "colab_type": "code",
        "outputId": "cafe4d55-ab8b-4283-a54a-9ae23cc039b9",
        "colab": {
          "base_uri": "https://localhost:8080/",
          "height": 134
        }
      },
      "cell_type": "code",
      "source": [
        "print('memory that we can use')\n",
        "!cat /proc/meminfo | grep 'MemAvailable'\n",
        "print('if it had turbo boost it would''ve shown Min and Max MHz also but it is only showing current frequency this means it always operates at 2.3GHz')\n",
        "!lscpu | grep \"MHz\"\n",
        "print('hard disk that we can use')\n",
        "!df -h / | awk '{print  $4}'"
      ],
      "execution_count": 18,
      "outputs": [
        {
          "output_type": "stream",
          "text": [
            "memory that we can use\n",
            "MemAvailable:   12043876 kB\n",
            "if it had turbo boost it wouldve shown Min and Max MHz also but it is only showing current frequency this means it always operates at 2.3GHz\n",
            "CPU MHz:             2300.000\n",
            "hard disk that we can use\n",
            "Avail\n",
            "26G\n"
          ],
          "name": "stdout"
        }
      ]
    },
    {
      "metadata": {
        "id": "M46x7n7T0C13",
        "colab_type": "code",
        "outputId": "5601b399-28ce-44ef-bf9d-18e55338a470",
        "colab": {
          "base_uri": "https://localhost:8080/",
          "height": 34
        }
      },
      "cell_type": "code",
      "source": [
        "2+3"
      ],
      "execution_count": 0,
      "outputs": [
        {
          "output_type": "execute_result",
          "data": {
            "text/plain": [
              "5"
            ]
          },
          "metadata": {
            "tags": []
          },
          "execution_count": 1
        }
      ]
    }
  ]
}